{
  "cells": [
    {
      "cell_type": "markdown",
      "metadata": {
        "id": "view-in-github",
        "colab_type": "text"
      },
      "source": [
        "<a href=\"https://colab.research.google.com/github/kaustubh-karthik/NEA_project/blob/master/NEA_beat_algorithm.ipynb\" target=\"_parent\"><img src=\"https://colab.research.google.com/assets/colab-badge.svg\" alt=\"Open In Colab\"/></a>"
      ]
    },
    {
      "cell_type": "code",
      "execution_count": 3,
      "metadata": {
        "colab": {
          "base_uri": "https://localhost:8080/"
        },
        "id": "THU7eMJStolt",
        "outputId": "2a56837a-c456-4948-a245-604e149f3880"
      },
      "outputs": [
        {
          "output_type": "stream",
          "name": "stdout",
          "text": [
            "Looking in indexes: https://pypi.org/simple, https://us-python.pkg.dev/colab-wheels/public/simple/\n",
            "Collecting pydub\n",
            "  Downloading pydub-0.25.1-py2.py3-none-any.whl (32 kB)\n",
            "Installing collected packages: pydub\n",
            "Successfully installed pydub-0.25.1\n"
          ]
        }
      ],
      "source": [
        "!pip install pydub\n",
        "from pydub import AudioSegment\n",
        "import wave\n",
        "import scipy\n",
        "import numpy as np\n",
        "import matplotlib.pyplot as plt"
      ]
    },
    {
      "cell_type": "code",
      "execution_count": null,
      "metadata": {
        "id": "X0KLLNZgtdiX",
        "colab": {
          "base_uri": "https://localhost:8080/"
        },
        "outputId": "b3184ff1-7eca-4723-8f73-9d88f847f881"
      },
      "outputs": [
        {
          "output_type": "execute_result",
          "data": {
            "text/plain": [
              "<_io.BufferedRandom name='pasoori.wav'>"
            ]
          },
          "metadata": {},
          "execution_count": 3
        }
      ],
      "source": [
        "sound = AudioSegment.from_wav(\"pasoori (3).wav\")\n",
        "sound = sound.set_channels(1)\n",
        "sound.export(\"pasoori.wav\", format=\"wav\")"
      ]
    },
    {
      "cell_type": "code",
      "execution_count": 9,
      "metadata": {
        "colab": {
          "base_uri": "https://localhost:8080/",
          "height": 776
        },
        "id": "EeuCJvUrts39",
        "outputId": "314c0405-4093-4a24-8871-2ef7e31fed79"
      },
      "outputs": [
        {
          "output_type": "stream",
          "name": "stdout",
          "text": [
            "9885696 44100\n",
            "[  1.    1.8   3.3   4.3   6.5   7.3   8.6   9.6  10.6  12.2  13.8  15.\n",
            "  15.8  16.9  18.7  22.6  24.4  25.9  27.4  28.7  29.1  30.6  33.1  34.1\n",
            "  34.9  35.8  37.4  38.9  40.3  42.1  42.3  45.6  48.5  49.9  51.   53.7\n",
            "  55.9  59.1  60.2  61.7  63.3  64.6  66.   66.9  68.1  69.5  70.5  72.2\n",
            "  74.3  78.2  78.4  80.3  82.6  83.6  84.7  85.4  86.7  89.9  92.1  93.7\n",
            "  96.1  97.1  98.5  99.3 100.6 103.7 104.8 106.1 106.8 108.1 109.2 110.2\n",
            " 113.7 115.  115.7 117.3 118.8 119.8 120.9 122.2 124.3 126.7 128.3 129.8\n",
            " 131.6 133.1 134.9 141.5 145.1 145.9 147.4 148.9 150.4 151.4 152.5 153.5\n",
            " 154.8 156.  157.4 158.7 160.  161.4 162.1 163.5 165.1 167.1 168.5 171.8\n",
            " 172.1 173.4 174.3 176.6 178.7 180.2 181.3 182.7 184.  185.2 186.5 187.5\n",
            " 189.2 190.1 191.1 192.4 194.5 195.5 196.7 197.7 198.9 200.1 201.  202.4\n",
            " 203.3 204.7 206.1 207.1 208.6 210.  210.9 212.1 213.  217.3 218.2 220.7\n",
            " 221.7 222.8]\n"
          ]
        },
        {
          "output_type": "display_data",
          "data": {
            "text/plain": [
              "<Figure size 2000x500 with 1 Axes>"
            ],
            "image/png": "[encoded data removed]"
          },
          "metadata": {}
        },
        {
          "output_type": "stream",
          "name": "stdout",
          "text": [
            "Turning points:  [  1.    1.8   3.3   4.3   6.5   7.3   8.6   9.6  10.6  12.2  13.8  15.\n",
            "  15.8  16.9  18.7  22.6  24.4  25.9  27.4  28.7  29.1  30.6  33.1  34.1\n",
            "  34.9  35.8  37.4  38.9  40.3  42.1  42.3  45.6  48.5  49.9  51.   53.7\n",
            "  55.9  59.1  60.2  61.7  63.3  64.6  66.   66.9  68.1  69.5  70.5  72.2\n",
            "  74.3  78.2  78.4  80.3  82.6  83.6  84.7  85.4  86.7  89.9  92.1  93.7\n",
            "  96.1  97.1  98.5  99.3 100.6 103.7 104.8 106.1 106.8 108.1 109.2 110.2\n",
            " 113.7 115.  115.7 117.3 118.8 119.8 120.9 122.2 124.3 126.7 128.3 129.8\n",
            " 131.6 133.1 134.9 141.5 145.1 145.9 147.4 148.9 150.4 151.4 152.5 153.5\n",
            " 154.8 156.  157.4 158.7 160.  161.4 162.1 163.5 165.1 167.1 168.5 171.8\n",
            " 172.1 173.4 174.3 176.6 178.7 180.2 181.3 182.7 184.  185.2 186.5 187.5\n",
            " 189.2 190.1 191.1 192.4 194.5 195.5 196.7 197.7 198.9 200.1 201.  202.4\n",
            " 203.3 204.7 206.1 207.1 208.6 210.  210.9 212.1 213.  217.3 218.2 220.7\n",
            " 221.7 222.8]\n"
          ]
        }
      ],
      "source": [
        "import wave\n",
        "import scipy\n",
        "import numpy as np\n",
        "import matplotlib.pyplot as plt\n",
        "\n",
        "wav_file_name = \"pasoori (3)\"\n",
        "\n",
        "# Opening wave file as object\n",
        "with wave.open(wav_file_name + \".wav\", \"rb\") as wav_obj:\n",
        "  # Getting metadata of wave audio\n",
        "  sample_freq = wav_obj.getframerate()\n",
        "  n_samples = wav_obj.getnframes()\n",
        "  n_channels = wav_obj.getnchannels()\n",
        "  signal_wave = wav_obj.readframes(n_samples)\n",
        "print(n_samples, sample_freq)\n",
        "\n",
        "# Converts a buffer(byte) object to an Int16 array\n",
        "signal_array = abs(np.frombuffer(signal_wave, dtype=np.int16))\n",
        "signal_length = n_samples/sample_freq # In seconds\n",
        "\n",
        "# Smoothes the wave signal to allow for easier data analysis\n",
        "filt_num = sample_freq\n",
        "filt = np.ones(filt_num)/filt_num\n",
        "signal_smoothed = scipy.signal.fftconvolve(signal_array, filt, mode=\"same\")\n",
        "\n",
        "# Creates an array corresponding to the time of each audio sample\n",
        "times = np.linspace(0, signal_length, num=n_samples)\n",
        "\n",
        "# Creates a Fast Fourier Transform of the smoothed signal array\n",
        "signal_fft = np.fft.fft(signal_smoothed)\n",
        "\n",
        "signal_stripped_fft = signal_fft\n",
        "signal_stripped_fft[100:] = 0\n",
        "\n",
        "fft_smoothed = np.fft.ifft(signal_stripped_fft)\n",
        "conv_smoothed = scipy.signal.fftconvolve(fft_smoothed, filt, mode=\"same\") # secondary smoothing\n",
        "\n",
        "times_len = len(times)\n",
        "wave_len = len(conv_smoothed)\n",
        "half_diff = (times_len - wave_len)//2\n",
        "\n",
        "#Calculating gradients and turning points\n",
        "smoothed_gradient = np.gradient(conv_smoothed, times).real\n",
        "turning_points = np.where(np.round(smoothed_gradient, 1) == 0)[0]\n",
        "turning_points_seconds = turning_points/sample_freq\n",
        "\n",
        "distinct_tps = np.asarray(sorted(list(set(np.round(turning_points_seconds, 1)))))\n",
        "print(distinct_tps)\n",
        "with open(\"turning_points.txt\", 'w') as tps:\n",
        "  turning_points_seconds = turning_points/sample_freq\n",
        "  turning_points_seconds.tofile(tps, sep=', ')\n",
        "\n",
        "plt.figure(figsize=(20,5))\n",
        "#plt.plot(times, fft_smoothed)\n",
        "plt.plot(turning_points/sample_freq, np.zeros(len(turning_points)), '.')\n",
        "#plt.plot(times, smoothed_gradient, color=\"r\")\n",
        "plt.show()\n",
        "# Prints the times(in seconds) of turning points\n",
        "print(\"Turning points: \", distinct_tps)\n",
        "\n"
      ]
    },
    {
      "cell_type": "code",
      "source": [],
      "metadata": {
        "id": "w9OqZQnX0Pyn"
      },
      "execution_count": null,
      "outputs": []
    },
    {
      "cell_type": "code",
      "source": [
        "#Calculating gradients and turning points\n",
        "smoothed_gradient = np.gradient(conv_smoothed, times).real\n",
        "turning_points = np.where(np.round(smoothed_gradient, 1) == 0)[0]\n",
        "turning_points_seconds = turning_points/sample_freq\n",
        "\n",
        "distinct_tps = np.asarray(sorted(list(set(np.round(turning_points_seconds, 1)))))\n",
        "print(distinct_tps)\n",
        "with open(\"turning_points.txt\", 'w') as tps:\n",
        "  turning_points_seconds = turning_points/sample_freq\n",
        "  turning_points_seconds.tofile(tps, sep=', ')\n",
        "\n",
        "plt.figure(figsize=(20,5))\n",
        "#plt.plot(times, fft_smoothed)\n",
        "plt.plot(turning_points/sample_freq, np.zeros(len(turning_points)), '.')\n",
        "#plt.plot(times, smoothed_gradient, color=\"r\")\n",
        "plt.show()\n",
        "# Prints the times(in seconds) of turning points\n",
        "print(\"Turning points: \", turning_points/sample_freq)\n"
      ],
      "metadata": {
        "colab": {
          "base_uri": "https://localhost:8080/",
          "height": 568
        },
        "id": "U_LkxA4-GLju",
        "outputId": "8d13416e-c4a1-4260-995d-f8675240c8dd"
      },
      "execution_count": 8,
      "outputs": [
        {
          "output_type": "stream",
          "name": "stdout",
          "text": [
            "[  1.    1.8   3.3   4.3   6.5   7.3   8.6   9.6  10.6  12.2  13.8  15.\n",
            "  15.8  16.9  18.7  22.6  24.4  25.9  27.4  28.7  29.1  30.6  33.1  34.1\n",
            "  34.9  35.8  37.4  38.9  40.3  42.1  42.3  45.6  48.5  49.9  51.   53.7\n",
            "  55.9  59.1  60.2  61.7  63.3  64.6  66.   66.9  68.1  69.5  70.5  72.2\n",
            "  74.3  78.2  78.4  80.3  82.6  83.6  84.7  85.4  86.7  89.9  92.1  93.7\n",
            "  96.1  97.1  98.5  99.3 100.6 103.7 104.8 106.1 106.8 108.1 109.2 110.2\n",
            " 113.7 115.  115.7 117.3 118.8 119.8 120.9 122.2 124.3 126.7 128.3 129.8\n",
            " 131.6 133.1 134.9 141.5 145.1 145.9 147.4 148.9 150.4 151.4 152.5 153.5\n",
            " 154.8 156.  157.4 158.7 160.  161.4 162.1 163.5 165.1 167.1 168.5 171.8\n",
            " 172.1 173.4 174.3 176.6 178.7 180.2 181.3 182.7 184.  185.2 186.5 187.5\n",
            " 189.2 190.1 191.1 192.4 194.5 195.5 196.7 197.7 198.9 200.1 201.  202.4\n",
            " 203.3 204.7 206.1 207.1 208.6 210.  210.9 212.1 213.  217.3 218.2 220.7\n",
            " 221.7 222.8]\n"
          ]
        },
        {
          "output_type": "display_data",
          "data": {
            "text/plain": [
              "<Figure size 2000x500 with 1 Axes>"
            ],
            "image/png": "[encoded data removed]"
          },
          "metadata": {}
        },
        {
          "output_type": "stream",
          "name": "stdout",
          "text": [
            "Turning points:  [  1.01360544   1.01362812   1.01365079 ... 222.76843537 222.76845805\n",
            " 222.76848073]\n"
          ]
        }
      ]
    }
  ],
  "metadata": {
    "colab": {
      "provenance": [],
      "authorship_tag": "ABX9TyOxcms5ecUDm9AF1fZEyGbg",
      "include_colab_link": true
    },
    "kernelspec": {
      "display_name": "Python 3",
      "name": "python3"
    },
    "language_info": {
      "name": "python"
    }
  },
  "nbformat": 4,
  "nbformat_minor": 0
}